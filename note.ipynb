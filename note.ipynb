{
 "cells": [
  {
   "cell_type": "raw",
   "id": "1c17b033-85a6-4242-9296-0f485f7eb09b",
   "metadata": {},
   "source": [
    "Name: Tên của bệnh nhân (kiểu dữ liệu: object).\n",
    "Age: Tuổi của bệnh nhân (kiểu dữ liệu: int64).\n",
    "Gender: Giới tính của bệnh nhân (Nam/Nữ hoặc các giá trị khác) (kiểu dữ liệu: object).\n",
    "Blood Type: Nhóm máu (A, B, AB, O...) (kiểu dữ liệu: object).\n",
    "Medical Condition: Tình trạng bệnh lý (chẩn đoán hoặc tình trạng sức khỏe) (kiểu dữ liệu: object).\n",
    "Date of Admission: Ngày nhập viện (kiểu dữ liệu: object - cần chuyển đổi thành định dạng ngày/thời gian nếu cần).\n",
    "Doctor: Tên bác sĩ phụ trách (kiểu dữ liệu: object).\n",
    "Hospital: Tên bệnh viện (kiểu dữ liệu: object).\n",
    "Insurance Provider: Nhà cung cấp bảo hiểm của bệnh nhân (kiểu dữ liệu: object).\n",
    "Billing Amount: Chi phí hóa đơn y tế (kiểu dữ liệu: float64).\n",
    "Room Number: Số phòng bệnh nhân ở (kiểu dữ liệu: int64).\n",
    "Admission Type: Loại nhập viện (Khẩn cấp, Định kỳ, Theo dõi, v.v.) (kiểu dữ liệu: object).\n",
    "Discharge Date: Ngày xuất viện (kiểu dữ liệu: object - cần chuyển đổi thành định dạng ngày/thời gian nếu cần).\n",
    "Medication: Loại thuốc hoặc danh sách thuốc bệnh nhân được kê (kiểu dữ liệu: object).\n",
    "Test Results: Kết quả xét nghiệm (có thể ở dạng văn bản hoặc mã hóa) (kiểu dữ liệu: object)."
   ]
  }
 ],
 "metadata": {
  "kernelspec": {
   "display_name": "Python 3 (ipykernel)",
   "language": "python",
   "name": "python3"
  },
  "language_info": {
   "codemirror_mode": {
    "name": "ipython",
    "version": 3
   },
   "file_extension": ".py",
   "mimetype": "text/x-python",
   "name": "python",
   "nbconvert_exporter": "python",
   "pygments_lexer": "ipython3",
   "version": "3.12.4"
  }
 },
 "nbformat": 4,
 "nbformat_minor": 5
}
